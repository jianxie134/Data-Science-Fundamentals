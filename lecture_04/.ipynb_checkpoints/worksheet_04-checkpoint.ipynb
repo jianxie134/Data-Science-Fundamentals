{
 "cells": [
  {
   "cell_type": "markdown",
   "metadata": {},
   "source": [
    "# Worksheet 04\n",
    "\n",
    "Name: Jian Xie\n",
    "\n",
    "UID: 75516303\n",
    "\n",
    "### Topics\n",
    "\n",
    "- Distance & Similarity"
   ]
  },
  {
   "cell_type": "markdown",
   "metadata": {},
   "source": [
    "### Distance & Similarity\n",
    "\n",
    "#### Part 1\n",
    "\n",
    "a) In the minkowski distance, describe what the parameters p and d are."
   ]
  },
  {
   "cell_type": "markdown",
   "metadata": {},
   "source": [
    "p: It determines the type of the distance function\n",
    "\n",
    "d: It represents the dimension of the dataset"
   ]
  },
  {
   "cell_type": "markdown",
   "metadata": {},
   "source": [
    "b) In your own words describe the difference between the Euclidean distance and the Manhattan distance."
   ]
  },
  {
   "cell_type": "markdown",
   "metadata": {},
   "source": [
    "When p = 2, Minkowski distance is Euclidean distanche. It's used to measuring straight-line distance.\n",
    "\n",
    "When p = 1, it's Manhattan distance. The metric reflects the total horizontal and vertical distance between two points, ignoring any diagonal shortcut."
   ]
  },
  {
   "cell_type": "markdown",
   "metadata": {},
   "source": [
    "Consider A = (0, 0) and B = (1, 1). When:\n",
    "\n",
    "- p = 1, d(A, B) = 2\n",
    "- p = 2, d(A, B) = $\\sqrt{2} = 1.41$\n",
    "- p = 3, d(A, B) = $2^{1/3} = 1.26$\n",
    "- p = 4, d(A, B) = $2^{1/4} = 1.19$\n",
    "\n",
    "c) Describe what you think distance would look like when p is very large."
   ]
  },
  {
   "cell_type": "markdown",
   "metadata": {},
   "source": [
    "When p is very largem the distance between two points is essentially the maximum absolute difference. This is because, as p increases,the largest difference between any single pair in the two points dominates the sum in the Minkowski formula."
   ]
  },
  {
   "cell_type": "markdown",
   "metadata": {},
   "source": [
    "d) Is the minkowski distance still a distance function when p < 1? Expain why / why not."
   ]
  },
  {
   "cell_type": "markdown",
   "metadata": {},
   "source": [
    "No. Because p < 1 will make the Minkowski function voilate d(i, j) ≤ d(i, k) + d(k, j)."
   ]
  },
  {
   "cell_type": "markdown",
   "metadata": {},
   "source": [
    "e) when would you use cosine similarity over the euclidan distance?"
   ]
  },
  {
   "cell_type": "markdown",
   "metadata": {},
   "source": [
    "When direction matters more than magnitude"
   ]
  },
  {
   "cell_type": "markdown",
   "metadata": {},
   "source": [
    "f) what does the jaccard distance account for that the manhattan distance doesn't?"
   ]
  },
  {
   "cell_type": "markdown",
   "metadata": {},
   "source": [
    "When we need to account for the size of the intersection!"
   ]
  },
  {
   "cell_type": "markdown",
   "metadata": {},
   "source": [
    "#### Part 2\n",
    "\n",
    "Consider the following two sentences:"
   ]
  },
  {
   "cell_type": "code",
   "execution_count": 1,
   "metadata": {},
   "outputs": [],
   "source": [
    "s1 = \"hello my name is Alice\"  \n",
    "s2 = \"hello my name is Bob\""
   ]
  },
  {
   "cell_type": "markdown",
   "metadata": {},
   "source": [
    "using the union of words from both sentences, we can represent each sentence as a vector. Each element of the vector represents the presence or absence of the word at that index.\n",
    "\n",
    "In this example, the union of words is (\"hello\", \"my\", \"name\", \"is\", \"Alice\", \"Bob\") so we can represent the above sentences as such:"
   ]
  },
  {
   "cell_type": "code",
   "execution_count": null,
   "metadata": {},
   "outputs": [],
   "source": [
    "v1 = [1,    1, 1,   1, 1,    0]\n",
    "#     hello my name is Alice\n",
    "v2 = [1,    1, 1,   1, 0, 1]\n",
    "#     hello my name is    Bob"
   ]
  },
  {
   "cell_type": "markdown",
   "metadata": {},
   "source": [
    "Programmatically, we can do the following:"
   ]
  },
  {
   "cell_type": "code",
   "execution_count": 3,
   "metadata": {},
   "outputs": [
    {
     "name": "stdout",
     "output_type": "stream",
     "text": [
      "['is', 'Alice', 'hello', 'name', 'Bob', 'my']\n",
      "[1, 1, 1, 1, 0, 1]\n",
      "[1, 0, 1, 1, 1, 1]\n"
     ]
    }
   ],
   "source": [
    "s1 = \"hello my name is Alice\"\n",
    "s2 = \"hello my name is Bob\"\n",
    "corpus = [s1, s2]\n",
    "# s1_words = list(word for word in s1.split())\n",
    "# s2_words = list(word for word in s2.split())\n",
    "# print(s1_words, ' , ', s2_words)\n",
    "# all_words = set([s1_words, s2_words])\n",
    "\n",
    "all_words = list(set(\n",
    "    [item for x in corpus for item in x.split()]\n",
    "))\n",
    "print(all_words)\n",
    "v1 = [1 if x in s1 else 0 for x in all_words]\n",
    "v2 = [1 if x in s2 else 0 for x in all_words]\n",
    "print(v1)\n",
    "print(v2)"
   ]
  },
  {
   "cell_type": "markdown",
   "metadata": {},
   "source": [
    "Let's add a new sentence to our corpus:"
   ]
  },
  {
   "cell_type": "code",
   "execution_count": 4,
   "metadata": {},
   "outputs": [],
   "source": [
    "s3 = \"hi my name is Claude\"\n",
    "corpus.append(s3)"
   ]
  },
  {
   "cell_type": "code",
   "execution_count": 1,
   "metadata": {},
   "outputs": [],
   "source": [
    "s1 = \"hello my name is Alice\"  \n",
    "s2 = \"hello my name is Bob\"\n",
    "s3 = \"hi my name is Claude\"\n",
    "corpus = [s1, s2, s3]"
   ]
  },
  {
   "cell_type": "markdown",
   "metadata": {},
   "source": [
    "a) What is the new union of words used to represent s1, s2, and s3?"
   ]
  },
  {
   "cell_type": "code",
   "execution_count": 2,
   "metadata": {},
   "outputs": [
    {
     "name": "stdout",
     "output_type": "stream",
     "text": [
      "['name', 'is', 'Bob', 'my', 'hello', 'Claude', 'Alice', 'hi']\n"
     ]
    }
   ],
   "source": [
    "all_words = list(set([item for x in corpus for item in x.split()]))\n",
    "\n",
    "print(all_words)"
   ]
  },
  {
   "cell_type": "markdown",
   "metadata": {},
   "source": [
    "b) Represent s1, s2, and s3 as vectors as above, using this new set of words."
   ]
  },
  {
   "cell_type": "code",
   "execution_count": 3,
   "metadata": {},
   "outputs": [
    {
     "name": "stdout",
     "output_type": "stream",
     "text": [
      "[1, 1, 0, 1, 1, 0, 1, 0]\n",
      "[1, 1, 1, 1, 1, 0, 0, 0]\n",
      "[1, 1, 0, 1, 0, 1, 0, 1]\n"
     ]
    }
   ],
   "source": [
    "v1 = [1 if x in s1 else 0 for x in all_words]\n",
    "v2 = [1 if x in s2 else 0 for x in all_words]\n",
    "v3 = [1 if x in s3 else 0 for x in all_words]\n",
    "\n",
    "print(v1)\n",
    "print(v2)\n",
    "print(v3)"
   ]
  },
  {
   "cell_type": "markdown",
   "metadata": {},
   "source": [
    "c) Write a function that computes the manhattan distance between two vectors. Which pair of vectors are the most similar under that distance function?"
   ]
  },
  {
   "cell_type": "code",
   "execution_count": 4,
   "metadata": {},
   "outputs": [
    {
     "name": "stdout",
     "output_type": "stream",
     "text": [
      "Test: p=1 ->  1.4142135623730951 , p=2 -> 2.0\n",
      "v1 & v2:  2.0\n",
      "v1 & v3:  4.0\n",
      "v2 & v3:  4.0\n"
     ]
    }
   ],
   "source": [
    "def minkowski(x, y, p = 1):\n",
    "    if len(x) != len(y):\n",
    "        raise RuntimeError(\"x and y should be the same dimension\")\n",
    "    \n",
    "    res = 0\n",
    "    for i in range(len(x)):\n",
    "        res += abs(x[i] - y[i]) ** p\n",
    "    return res ** (1 / p)\n",
    "\n",
    "print('Test: p=1 -> ', minkowski([0,0], [1,1], 2), \n",
    "      ', p=2 ->', minkowski([0,0], [1,1], 1))\n",
    "\n",
    "print('v1 & v2: ', minkowski(v1, v2))\n",
    "print('v1 & v3: ', minkowski(v1, v3))\n",
    "print('v2 & v3: ', minkowski(v2, v3))"
   ]
  },
  {
   "cell_type": "markdown",
   "metadata": {},
   "source": [
    "Pair (v1, v2) are the most similar under Manhattan distance funciton."
   ]
  },
  {
   "cell_type": "markdown",
   "metadata": {},
   "source": [
    "d) Create a matrix of all these vectors (row major) and add the following sentences in vector form:\n",
    "\n",
    "- \"hi Alice\"\n",
    "- \"hello Claude\"\n",
    "- \"Bob my name is Claude\"\n",
    "- \"hi Claude my name is Alice\"\n",
    "- \"hello Bob\""
   ]
  },
  {
   "cell_type": "code",
   "execution_count": 5,
   "metadata": {},
   "outputs": [
    {
     "name": "stdout",
     "output_type": "stream",
     "text": [
      "[[1, 1, 0, 1, 1, 0, 1, 0], [1, 1, 1, 1, 1, 0, 0, 0], [1, 1, 0, 1, 0, 1, 0, 1]]\n",
      "['hello my name is Alice', 'hello my name is Bob', 'hi my name is Claude', 'hi Alice', 'hello Claude', 'Bob my name is Claude', 'hi Claude my name is Alice', 'hello Bob']\n"
     ]
    }
   ],
   "source": [
    "matrix = [v1, v2, v3]\n",
    "print(matrix)\n",
    "\n",
    "s4 = \"hi Alice\"\n",
    "s5 = \"hello Claude\"\n",
    "s6 = \"Bob my name is Claude\"\n",
    "s7 = \"hi Claude my name is Alice\"\n",
    "s8 = \"hello Bob\"\n",
    "corpus.append(s4)\n",
    "corpus.append(s5)\n",
    "corpus.append(s6)\n",
    "corpus.append(s7)\n",
    "corpus.append(s8)\n",
    "print(corpus)"
   ]
  },
  {
   "cell_type": "code",
   "execution_count": 6,
   "metadata": {},
   "outputs": [
    {
     "name": "stdout",
     "output_type": "stream",
     "text": [
      "[0, 0, 0, 0, 0, 0, 1, 1]\n"
     ]
    }
   ],
   "source": [
    "all_words = list(set([item for x in corpus for item in x.split()]))\n",
    "v4 = [1 if x in s4 else 0 for x in all_words]\n",
    "v5 = [1 if x in s5 else 0 for x in all_words]\n",
    "v6 = [1 if x in s6 else 0 for x in all_words]\n",
    "v7 = [1 if x in s7 else 0 for x in all_words]\n",
    "v8 = [1 if x in s8 else 0 for x in all_words]\n",
    "print(v4)"
   ]
  },
  {
   "cell_type": "code",
   "execution_count": 7,
   "metadata": {},
   "outputs": [
    {
     "name": "stdout",
     "output_type": "stream",
     "text": [
      "[[1, 1, 0, 1, 1, 0, 1, 0], [1, 1, 1, 1, 1, 0, 0, 0], [1, 1, 0, 1, 0, 1, 0, 1], [0, 0, 0, 0, 0, 0, 1, 1], [0, 0, 0, 0, 1, 1, 0, 0], [1, 1, 1, 1, 0, 1, 0, 0], [1, 1, 0, 1, 0, 1, 1, 1], [0, 0, 1, 0, 1, 0, 0, 0]]\n"
     ]
    }
   ],
   "source": [
    "matrix.append(v4)\n",
    "matrix.append(v5)\n",
    "matrix.append(v6)\n",
    "matrix.append(v7)\n",
    "matrix.append(v8)\n",
    "print(matrix)"
   ]
  },
  {
   "cell_type": "markdown",
   "metadata": {},
   "source": [
    "e) How many rows and columns does this matrix have?"
   ]
  },
  {
   "cell_type": "code",
   "execution_count": 8,
   "metadata": {},
   "outputs": [
    {
     "name": "stdout",
     "output_type": "stream",
     "text": [
      "rows:  8 , cols:  8\n"
     ]
    }
   ],
   "source": [
    "print(\"rows: \", len(matrix), \", cols: \", len(matrix[0]))"
   ]
  },
  {
   "cell_type": "markdown",
   "metadata": {},
   "source": [
    "f) When using the Manhattan distance, which two sentences are the most similar?"
   ]
  },
  {
   "cell_type": "code",
   "execution_count": 13,
   "metadata": {},
   "outputs": [
    {
     "name": "stdout",
     "output_type": "stream",
     "text": [
      "{'s1 & s2': 2.0, 's1 & s3': 4.0, 's1 & s4': 5.0, 's1 & s5': 5.0, 's1 & s6': 4.0, 's1 & s7': 3.0, 's1 & s8': 5.0, 's2 & s3': 4.0, 's2 & s4': 7.0, 's2 & s5': 5.0, 's2 & s6': 2.0, 's2 & s7': 5.0, 's2 & s8': 3.0, 's3 & s4': 5.0, 's3 & s5': 5.0, 's3 & s6': 2.0, 's3 & s7': 1.0, 's3 & s8': 7.0, 's4 & s5': 4.0, 's4 & s6': 7.0, 's4 & s7': 4.0, 's4 & s8': 4.0, 's5 & s6': 5.0, 's5 & s7': 6.0, 's5 & s8': 2.0, 's6 & s7': 3.0, 's6 & s8': 5.0, 's7 & s8': 8.0}\n",
      "The most similar pair in Manhattan distance:  s7 & s8 with value:  7\n"
     ]
    }
   ],
   "source": [
    "dict = {}\n",
    "for i in range(len(matrix) - 1):\n",
    "    for j in range(i + 1, len(matrix)):\n",
    "        dict[\"s\"+str(i+1)+\" & s\"+str(j+1)] = minkowski(matrix[i], matrix[j])\n",
    "print(dict)\n",
    "print(\"The most similar pair in Manhattan distance: \", max(dict), \"with value: \", max(dict)[1])"
   ]
  },
  {
   "cell_type": "markdown",
   "metadata": {},
   "source": [
    "#### Part 3 Challenge"
   ]
  },
  {
   "cell_type": "markdown",
   "metadata": {},
   "source": [
    "Given a set of graphs $\\mathcal{G}$, each graph $G \\in \\mathcal{G}$ is defined over the same set of nodes $V$. The graphs are represented by their adjacency matrices, which are 2D arrays where each element indicates whether a pair of nodes is connected by an edge.\n",
    "\n",
    "Your task is to compute the pairwise distances between these graphs based on a specific distance metric. The distance $d(G, G')$ between two graphs $G = (V, E)$ and $G' = (V, E')$ is defined as the sum of the number of edges in $G$ but not in $G'$, and the number of edges in $G'$ but not in $G$. Mathematically, this can be expressed as:\n",
    "\n",
    "$$\n",
    "d(G, G') = |E \\setminus E'| + |E' \\setminus E|.\n",
    "$$\n",
    "\n",
    "##### Requirements:\n",
    "1. **Input**: Should take a list of 2D numpy arrays as input. Each array represents the adjacency matrix of a graph.\n",
    "\n",
    "2. **Output**: Should output a pairwise distance matrix. If there are $n$ graphs in the input list, the output should be an $n \\times n$ matrix where the entry at position $(i, j)$ represents the distance between the $i^{th}$ and $j^{th}$ graph."
   ]
  },
  {
   "cell_type": "code",
   "execution_count": 10,
   "metadata": {},
   "outputs": [
    {
     "data": {
      "text/plain": [
       "array([[0, 4, 7],\n",
       "       [4, 0, 7],\n",
       "       [7, 7, 0]])"
      ]
     },
     "execution_count": 10,
     "metadata": {},
     "output_type": "execute_result"
    }
   ],
   "source": [
    "import numpy as np\n",
    "\n",
    "def calculate_graph_distances(graphs):\n",
    "    num_graphs = len(graphs)\n",
    "    distance_matrix = np.zeros((num_graphs, num_graphs), dtype=int)\n",
    "\n",
    "    # Calculate pairwise distances\n",
    "    for i in range(num_graphs):\n",
    "        for j in range(i+1, num_graphs):\n",
    "            distance = np.sum(np.abs(graphs[i] - graphs[j]))\n",
    "            distance_matrix[i, j] = distance_matrix[j, i] = distance\n",
    "\n",
    "    return distance_matrix\n",
    "\n",
    "# Example Usage:\n",
    "graph1 = np.array([[0, 1, 0],\n",
    "                   [1, 0, 1],\n",
    "                   [0, 1, 0]])\n",
    "graph2 = np.array([[0, 0, 1],\n",
    "                   [0, 0, 1],\n",
    "                   [1, 1, 0]])\n",
    "graph3 = np.array([[1, 0, 0],\n",
    "                   [0, 1, 0],\n",
    "                   [0, 0, 1]])\n",
    "graphs = [graph1, graph2, graph3]\n",
    "\n",
    "distance_matrix = calculate_graph_distances(graphs)\n",
    "distance_matrix"
   ]
  }
 ],
 "metadata": {
  "kernelspec": {
   "display_name": "Python 3 (ipykernel)",
   "language": "python",
   "name": "python3"
  },
  "language_info": {
   "codemirror_mode": {
    "name": "ipython",
    "version": 3
   },
   "file_extension": ".py",
   "mimetype": "text/x-python",
   "name": "python",
   "nbconvert_exporter": "python",
   "pygments_lexer": "ipython3",
   "version": "3.9.7"
  },
  "toc": {
   "base_numbering": 1,
   "nav_menu": {},
   "number_sections": true,
   "sideBar": true,
   "skip_h1_title": false,
   "title_cell": "Table of Contents",
   "title_sidebar": "Contents",
   "toc_cell": false,
   "toc_position": {},
   "toc_section_display": true,
   "toc_window_display": false
  },
  "varInspector": {
   "cols": {
    "lenName": 16,
    "lenType": 16,
    "lenVar": 40
   },
   "kernels_config": {
    "python": {
     "delete_cmd_postfix": "",
     "delete_cmd_prefix": "del ",
     "library": "var_list.py",
     "varRefreshCmd": "print(var_dic_list())"
    },
    "r": {
     "delete_cmd_postfix": ") ",
     "delete_cmd_prefix": "rm(",
     "library": "var_list.r",
     "varRefreshCmd": "cat(var_dic_list()) "
    }
   },
   "types_to_exclude": [
    "module",
    "function",
    "builtin_function_or_method",
    "instance",
    "_Feature"
   ],
   "window_display": false
  },
  "vscode": {
   "interpreter": {
    "hash": "76ca05dc3ea24b2e3b98cdb7774adfbb40773424bf5109b477fd793f623715af"
   }
  }
 },
 "nbformat": 4,
 "nbformat_minor": 2
}
