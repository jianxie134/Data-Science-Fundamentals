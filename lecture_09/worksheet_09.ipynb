{
 "cells": [
  {
   "attachments": {},
   "cell_type": "markdown",
   "metadata": {},
   "source": [
    "# Worksheet 09\n",
    "\n",
    "Name: Jian Xie\n",
    "UID: U75516303\n",
    "\n",
    "\n",
    "### Topics\n",
    "\n",
    "- Clustering Review\n",
    "- Clustering Aggregation"
   ]
  },
  {
   "cell_type": "markdown",
   "metadata": {},
   "source": [
    "### Clustering Aggregation\n",
    "\n",
    "| Point | C | P |\n",
    "|-------|---|---|\n",
    "| A     | 0 | a |\n",
    "| B     | 0 | b |\n",
    "| C     | 2 | b |\n",
    "| D     | 1 | c |\n",
    "| E     | 1 | d |\n",
    "\n",
    "a) Fill in the following table where for each pair of points determine whether C and P agree or disagree on how to cluster that pair."
   ]
  },
  {
   "cell_type": "markdown",
   "metadata": {},
   "source": [
    "| Pair | Disagreement |\n",
    "|------|--------------|\n",
    "| A  B | disagree     |\n",
    "| A  C | agree        |\n",
    "| A  D | disagree        |\n",
    "| A  E | disagree            |\n",
    "| B  C | agree            |\n",
    "| B  D | disagree            |\n",
    "| B  E | disagree            |\n",
    "| C  D | agree            |\n",
    "| C  E | agree            |\n",
    "| D  E | agree            |\n"
   ]
  },
  {
   "cell_type": "markdown",
   "metadata": {},
   "source": [
    "As datasets become very large, this process can become computationally challenging.\n",
    "\n",
    "b) Given N points, what is the formula for the number of unique pairs of points one can create?"
   ]
  },
  {
   "cell_type": "markdown",
   "metadata": {},
   "source": [
    "The formula for the number of unique pairs of points one can create from N points is:\n",
    " $$N(N-1)/2$$"
   ]
  },
  {
   "cell_type": "markdown",
   "metadata": {},
   "source": [
    "Assume that clustering C clusters all points in the same cluster and clustering P clusters points as such:\n",
    "\n",
    "| Point | P |\n",
    "|-------|---|\n",
    "| A     | 0 |\n",
    "| B     | 0 |\n",
    "| C     | 0 |\n",
    "| D     | 1 |\n",
    "| E     | 1 |\n",
    "| F     | 2 |\n",
    "| G     | 2 |\n",
    "| H     | 2 |\n",
    "| I     | 2 |\n",
    "\n",
    "c) What is the maximum number of disagreements there could be for a dataset of this size? (use the formula from b)?"
   ]
  },
  {
   "cell_type": "markdown",
   "metadata": {},
   "source": [
    "With 9 points (A through I), the maximum number of disagreements is:\n",
    "$$9(9-1)/2 = 9(8)/2 = 72/2 = 36$$"
   ]
  },
  {
   "cell_type": "markdown",
   "metadata": {},
   "source": [
    "d) If we look at cluster 0. There are (3 x 2) / 2 = 3 pairs that agree with C (since all points in C are in the same cluster). For each cluster, determine how many agreements there are. How many total agreements are there? How many disagreements does that mean there are between C and P?"
   ]
  },
  {
   "cell_type": "markdown",
   "metadata": {},
   "source": [
    "To determine the total agreements and disagreements between clusterings C and P:\n",
    "Agreements per cluster in P:\n",
    "Cluster 0 (A, B, C): (3 x 2) / 2 = 3 agreements\n",
    "Cluster 1 (D, E): (2 x 1) / 2 = 1 agreement\n",
    "Cluster 2 (F, G, H, I): (4 x 3) / 2 = 6 agreements\n",
    "Total agreements: 3 + 1 + 6 = 10\n",
    "The total number of pairs is 9(9-1)/2 = 36.\n",
    "Since there are 10 agreements, the number of disagreements is:\n",
    "$$36 - 10 = 26$$"
   ]
  },
  {
   "cell_type": "markdown",
   "metadata": {},
   "source": [
    "e) Assuming that filtering the dataset by cluster number is a computationally easy operation, describe an algorithm inspired by the above process that can efficiently compute disagreement distances on large datasets."
   ]
  },
  {
   "cell_type": "markdown",
   "source": [
    "***Pseudo code***"
   ],
   "metadata": {
    "collapsed": false
   }
  },
  {
   "cell_type": "markdown",
   "source": [
    "function disagreement_distance(dataset, clustering_C, clustering_P):\n",
    "    total_disagreements = 0\n",
    "    total_pairs = 0\n",
    "    \n",
    "    C_clusters = unique(clustering_C)\n",
    "    \n",
    "    for each cluster_i in C_clusters:\n",
    "        C_i = filter(dataset, clustering_C == cluster_i)\n",
    "        P_clusters_i = unique(clustering_P[C_i])\n",
    "        \n",
    "        agreements_i = 0\n",
    "        \n",
    "        for each cluster_j in P_clusters_i:\n",
    "            n_j = count(clustering_P[C_i] == cluster_j)\n",
    "            agreements_j = (n_j choose 2)\n",
    "            agreements_i = agreements_i + agreements_j\n",
    "        \n",
    "        pairs_i = (size(C_i) choose 2)\n",
    "        disagreements_i = pairs_i - agreements_i\n",
    "        \n",
    "        total_disagreements = total_disagreements + disagreements_i\n",
    "        total_pairs = total_pairs + pairs_i\n",
    "    \n",
    "    disagreement_distance = total_disagreements / total_pairs\n",
    "    \n",
    "    return disagreement_distance"
   ],
   "metadata": {
    "collapsed": false
   }
  },
  {
   "cell_type": "markdown",
   "metadata": {},
   "source": []
  }
 ],
 "metadata": {
  "interpreter": {
   "hash": "76ca05dc3ea24b2e3b98cdb7774adfbb40773424bf5109b477fd793f623715af"
  },
  "kernelspec": {
   "display_name": "Python 3 (ipykernel)",
   "language": "python",
   "name": "python3"
  },
  "language_info": {
   "codemirror_mode": {
    "name": "ipython",
    "version": 3
   },
   "file_extension": ".py",
   "mimetype": "text/x-python",
   "name": "python",
   "nbconvert_exporter": "python",
   "pygments_lexer": "ipython3",
   "version": "3.11.1"
  },
  "orig_nbformat": 4
 },
 "nbformat": 4,
 "nbformat_minor": 2
}
