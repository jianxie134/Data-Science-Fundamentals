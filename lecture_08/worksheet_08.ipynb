{
 "cells": [
  {
   "attachments": {},
   "cell_type": "markdown",
   "metadata": {},
   "source": [
    "# Worksheet 08\n",
    "\n",
    "Name: Jian Xie  \n",
    "UID: U75516303 \n",
    "\n",
    "### Topics\n",
    "\n",
    "- Soft Clustering\n",
    "- Clustering Aggregation\n",
    "\n",
    "### Probability Review\n",
    "\n",
    "Read through [the following](https://medium.com/@gallettilance/overview-of-probability-3272b72c82c8)\n",
    "\n",
    "### Soft Clustering\n",
    "\n",
    "We generate 10 data points that come from a normal distribution with mean 5 and variance 1."
   ]
  },
  {
   "cell_type": "code",
   "execution_count": 1,
   "metadata": {
    "ExecuteTime": {
     "end_time": "2024-02-28T00:37:54.071849500Z",
     "start_time": "2024-02-28T00:37:53.019528400Z"
    }
   },
   "outputs": [
    {
     "name": "stdout",
     "output_type": "stream",
     "text": [
      "[5.8481711115241515, 4.75207816011456, 6.130432949431659, 4.828620857734927, 5.67882877568895, 5.047158100373488, 4.128431913516526, 5.0774770328695356, 3.0582290176348197, 6.120497832091548]\n"
     ]
    }
   ],
   "source": [
    "import random\n",
    "import numpy as np\n",
    "from sklearn.cluster import KMeans\n",
    "\n",
    "mean = 5\n",
    "stdev = 1\n",
    "\n",
    "s1 = np.random.normal(mean, stdev, 10).tolist()\n",
    "print(s1)"
   ]
  },
  {
   "cell_type": "markdown",
   "metadata": {},
   "source": [
    "a) Generate 10 more data points, this time coming from a normal distribution with mean 8 and variance 1."
   ]
  },
  {
   "cell_type": "code",
   "execution_count": 2,
   "metadata": {
    "ExecuteTime": {
     "end_time": "2024-02-28T00:37:55.571436600Z",
     "start_time": "2024-02-28T00:37:55.550430900Z"
    }
   },
   "outputs": [
    {
     "name": "stdout",
     "output_type": "stream",
     "text": [
      "[8.863690497694703, 8.277298148765576, 7.993809312518509, 9.633524996618329, 7.332777514589342, 7.916592961252947, 7.607010408772074, 7.893207950661034, 7.600473832685583, 8.277378715013661]\n"
     ]
    }
   ],
   "source": [
    "s2 = np.random.normal(8, 1, 10).tolist()\n",
    "print(s2)"
   ]
  },
  {
   "attachments": {},
   "cell_type": "markdown",
   "metadata": {},
   "source": [
    "b) Flip a fair coin 10 times. If the coin lands on H, then pick the last data point of `s1` and remove it from `s1`, if T then pick the last data point from `s2` and remove it from `s2`. Add these 10 points to a list called `data`."
   ]
  },
  {
   "cell_type": "code",
   "execution_count": 3,
   "metadata": {
    "ExecuteTime": {
     "end_time": "2024-02-28T00:37:57.771192400Z",
     "start_time": "2024-02-28T00:37:57.749195800Z"
    }
   },
   "outputs": [
    {
     "name": "stdout",
     "output_type": "stream",
     "text": [
      "[8.277378715013661, 7.600473832685583, 7.893207950661034, 7.607010408772074, 6.120497832091548, 3.0582290176348197, 7.916592961252947, 7.332777514589342, 5.0774770328695356, 4.128431913516526]\n"
     ]
    }
   ],
   "source": [
    "data = []\n",
    "for i in range(10):\n",
    "    # flip coin\n",
    "    coin_output = random.choice([0, 1])\n",
    "    if coin_output == 0:\n",
    "        p1 = s1.pop()\n",
    "        data.append(p1)\n",
    "    else:\n",
    "        p2 = s2.pop()\n",
    "        data.append(p2)\n",
    "print(data)"
   ]
  },
  {
   "cell_type": "markdown",
   "metadata": {},
   "source": [
    "c) This `data` is a Gaussian Mixture Distribution with 2 mixture components. Over the next few questions we will walk through the GMM algorithm to see if we can uncover the parameters we used to generate this data. First, please list all these parameters of the GMM that created `data` and the values we know they have."
   ]
  },
  {
   "cell_type": "markdown",
   "source": [
    "1. The means of the two components: 5 and 8\n",
    "2. The variances of the two components: 1 and 1\n",
    "3. The proportion of points in each cluster: 0.5 and 0.5"
   ],
   "metadata": {
    "collapsed": false
   }
  },
  {
   "cell_type": "markdown",
   "metadata": {},
   "source": [
    "d) Let's assume there are two mixture components (note: we could plot the data and make the observation that there are two clusters). The EM algorithm asks us to start with a random `mean_j`, `variance_j`, `P(S_j)` for each component j. One method we could use to find sensible values for these is to apply K means with k=2 here.\n",
    "\n",
    "1. the centroids would be the estimates of the `mean_j`\n",
    "2. the intra-cluster variance could be the estimate of `variance_j`\n",
    "3. the proportion of points in each cluster could be the estimate of `P(S_j)`\n",
    "\n",
    "Go through this process and list the parameter estimates it gives. Are they close or far from the true values?"
   ]
  },
  {
   "cell_type": "code",
   "execution_count": 10,
   "metadata": {
    "ExecuteTime": {
     "end_time": "2024-02-28T00:38:06.913011700Z",
     "start_time": "2024-02-28T00:38:06.843481800Z"
    }
   },
   "outputs": [
    {
     "name": "stdout",
     "output_type": "stream",
     "text": [
      "[3.0582290176348197, 5.0774770328695356, 4.128431913516526]\n",
      "[8.277378715013661, 7.600473832685583, 7.893207950661034, 7.607010408772074, 6.120497832091548, 7.916592961252947, 7.332777514589342]\n",
      "P(S_1) = 0.3,  P(S_2) = 0.7\n",
      "mean_1 = 4.088045988006961,  mean_2 = 7.535419887866597\n",
      "var_1 = 0.680375935994522,  var_2 = 0.4108905263886568\n"
     ]
    }
   ],
   "source": [
    "kmeans = KMeans(2, init='k-means++').fit(X=np.array(data).reshape(-1, 1))\n",
    "\n",
    "s1 = [x[0] for x in filter(lambda x: x[1] == 0, zip(data, kmeans.labels_))]\n",
    "print(s1)\n",
    "s2 = [x[0] for x in filter(lambda x: x[1] == 1, zip(data, kmeans.labels_))]\n",
    "print(s2)\n",
    "\n",
    "prob_s = [ len(s1) / (len(s1) + len(s2)) , len(s2) / (len(s1) + len(s2)) ]\n",
    "mean = [ sum(s1)/len(s1) , sum(s2)/len(s2) ]\n",
    "var = [ sum(map(lambda x : (x - mean[0])**2, s1)) / len(s1) , sum(map(lambda x : (x - mean[1])**2, s2)) / len(s2) ]\n",
    "\n",
    "print(\"P(S_1) = \" + str(prob_s[0]) + \",  P(S_2) = \" + str(prob_s[1]))\n",
    "print(\"mean_1 = \" + str(mean[0]) + \",  mean_2 = \" + str(mean[1]))\n",
    "print(\"var_1 = \" + str(var[0]) + \",  var_2 = \" + str(var[1]))"
   ]
  },
  {
   "cell_type": "markdown",
   "metadata": {},
   "source": [
    "They are close to the true values."
   ]
  },
  {
   "cell_type": "markdown",
   "metadata": {},
   "source": [
    "e) For each data point, compute `P(S_j | X_i)`. Comment on which cluster you think each point belongs to based on the estimated probabilities. How does that compare to the truth?"
   ]
  },
  {
   "cell_type": "code",
   "execution_count": 21,
   "metadata": {
    "ExecuteTime": {
     "end_time": "2024-02-28T00:38:26.666062700Z",
     "start_time": "2024-02-28T00:38:26.599453200Z"
    }
   },
   "outputs": [
    {
     "name": "stdout",
     "output_type": "stream",
     "text": [
      "point =  8.277378715013661\n",
      "probability of observing that point if it came from cluster 0 =  3.4307433734357336e-09\n",
      "probability of observing that point if it came from cluster 1 =  0.1901680771709036\n",
      "point =  7.600473832685583\n",
      "probability of observing that point if it came from cluster 0 =  9.570274127610972e-07\n",
      "probability of observing that point if it came from cluster 1 =  0.9588282028070332\n",
      "point =  7.893207950661034\n",
      "probability of observing that point if it came from cluster 0 =  9.464164097071077e-08\n",
      "probability of observing that point if it came from cluster 1 =  0.6645642332238617\n",
      "point =  7.607010408772074\n",
      "probability of observing that point if it came from cluster 0 =  9.106770910666443e-07\n",
      "probability of observing that point if it came from cluster 1 =  0.9562952526602932\n",
      "point =  6.120497832091548\n",
      "probability of observing that point if it came from cluster 0 =  0.006767287833208443\n",
      "probability of observing that point if it came from cluster 1 =  0.002583711783592683\n",
      "point =  3.0582290176348197\n",
      "probability of observing that point if it came from cluster 0 =  0.1865005438961941\n",
      "probability of observing that point if it came from cluster 1 =  1.6046538857620372e-26\n",
      "point =  7.916592961252947\n",
      "probability of observing that point if it came from cluster 0 =  7.804460918965048e-08\n",
      "probability of observing that point if it came from cluster 1 =  0.6314092909073833\n",
      "point =  7.332777514589342\n",
      "probability of observing that point if it came from cluster 0 =  6.752213122954346e-06\n",
      "probability of observing that point if it came from cluster 1 =  0.8597422961423982\n",
      "point =  5.0774770328695356\n",
      "probability of observing that point if it came from cluster 0 =  0.2036732713663311\n",
      "probability of observing that point if it came from cluster 1 =  1.6471901408648757e-08\n",
      "point =  4.128431913516526\n",
      "probability of observing that point if it came from cluster 0 =  0.5853235851566269\n",
      "probability of observing that point if it came from cluster 1 =  1.1422279344030358e-15\n",
      "8.277378715013661\n",
      "Probability of coming from S_1 = 7.73167925511447e-09\n",
      "Probability of coming from S_2 = 0.9999999922683207\n",
      "\n",
      "7.600473832685583\n",
      "Probability of coming from S_1 = 4.277663389728769e-07\n",
      "Probability of coming from S_2 = 0.999999572233661\n",
      "\n",
      "7.893207950661034\n",
      "Probability of coming from S_1 = 6.103352959703415e-08\n",
      "Probability of coming from S_2 = 0.9999999389664703\n",
      "\n",
      "7.607010408772074\n",
      "Probability of coming from S_1 = 4.0812711504314273e-07\n",
      "Probability of coming from S_2 = 0.9999995918728849\n",
      "\n",
      "6.120497832091548\n",
      "Probability of coming from S_1 = 0.5288617524327288\n",
      "Probability of coming from S_2 = 0.4711382475672712\n",
      "\n",
      "3.0582290176348197\n",
      "Probability of coming from S_1 = 1.0\n",
      "Probability of coming from S_2 = 2.007604011168692e-25\n",
      "\n",
      "7.916592961252947\n",
      "Probability of coming from S_1 = 5.29730689151148e-08\n",
      "Probability of coming from S_2 = 0.9999999470269312\n",
      "\n",
      "7.332777514589342\n",
      "Probability of coming from S_1 = 3.365887541980017e-06\n",
      "Probability of coming from S_2 = 0.999996634112458\n",
      "\n",
      "5.0774770328695356\n",
      "Probability of coming from S_1 = 0.9999998112937003\n",
      "Probability of coming from S_2 = 1.8870629960193027e-07\n",
      "\n",
      "4.128431913516526\n",
      "Probability of coming from S_1 = 0.9999999999999954\n",
      "Probability of coming from S_2 = 4.553376254083269e-15\n"
     ]
    }
   ],
   "source": [
    "from scipy.stats import norm\n",
    "\n",
    "prob_s0_x = [] # P(S_0 | X_i)\n",
    "prob_s1_x = [] # P(S_1 | X_i)\n",
    "prob_x = [] # P(X_i)\n",
    "\n",
    "k = 2\n",
    "\n",
    "for p in data:\n",
    "    print(\"point = \", p)\n",
    "    pdf_i = []\n",
    "\n",
    "    for j in range(k):\n",
    "        # P(X_i | S_j)\n",
    "        pdf_i.append(norm.pdf(p, mean[j], var[j]))\n",
    "        print(\"probability of observing that point if it came from cluster \" + str(j) + \" = \", pdf_i[j])\n",
    "        # P(S_j) already computed\n",
    "        prob_s[j]\n",
    "\n",
    "    # P(X_i) = P(S_0)P(X_i | S_0) + P(S_1)P(X_i | S_1)\n",
    "    prob_x = prob_s[0] * pdf_i[0] + prob_s[1] * pdf_i[1]\n",
    "\n",
    "    # P(S_j | X_i) = P(X_i | S_j)P(S_j) / P(X_i)\n",
    "    prob_s0_x.append( pdf_i[0] * prob_s[0] / prob_x )\n",
    "    prob_s1_x.append( pdf_i[1] * prob_s[1] / prob_x )\n",
    "\n",
    "probs = zip(data, prob_s0_x, prob_s1_x)\n",
    "for p in probs:\n",
    "    print(p[0])\n",
    "    print(\"Probability of coming from S_1 = \" + str(p[1]))\n",
    "    print(\"Probability of coming from S_2 = \" + str(p[2]))\n",
    "    print()"
   ]
  },
  {
   "cell_type": "markdown",
   "source": [
    "The estimated probabilities are close from the truth."
   ],
   "metadata": {
    "collapsed": false
   }
  },
  {
   "cell_type": "markdown",
   "metadata": {},
   "source": [
    "f) Having computed `P(S_j | X_i)`, update the estimates of `mean_j`, `var_j`, and `P(S_j)`. How different are these values from the original ones you got from K means? briefly comment."
   ]
  },
  {
   "cell_type": "code",
   "execution_count": 23,
   "metadata": {
    "ExecuteTime": {
     "end_time": "2024-02-28T00:39:00.126775700Z",
     "start_time": "2024-02-28T00:39:00.109775100Z"
    }
   },
   "outputs": [
    {
     "name": "stdout",
     "output_type": "stream",
     "text": [
      "P(S_1) = 0.3,  P(S_2) = 0.7\n",
      "mean_1 = 4.392648151749813,  mean_2 = 7.651056228941448\n",
      "var_1 = 1.104721038488699,  var_2 = 0.26748334845061483\n"
     ]
    }
   ],
   "source": [
    "prob_c = [sum(prob_s0_x)/ len(prob_s0_x), sum(prob_s1_x)/ len(prob_s1_x)]\n",
    "mean = [sum([x[0] * x[1] for x in zip(prob_s0_x, data)]) / sum(prob_s0_x), sum([x[0] * x[1] for x in zip(prob_s1_x, data)]) / sum(prob_s1_x)]\n",
    "var = [sum([x[0] * (x[1] - mean[0])**2 for x in zip(prob_s0_x, data)]) / sum(prob_s0_x), sum([x[0] * (x[1] - mean[1])**2 for x in zip(prob_s1_x, data)]) / sum(prob_s1_x)]\n",
    "\n",
    "print(\"P(S_1) = \" + str(prob_s[0]) + \",  P(S_2) = \" + str(prob_s[1]))\n",
    "print(\"mean_1 = \" + str(mean[0]) + \",  mean_2 = \" + str(mean[1]))\n",
    "print(\"var_1 = \" + str(var[0]) + \",  var_2 = \" + str(var[1]))"
   ]
  },
  {
   "cell_type": "markdown",
   "metadata": {},
   "source": [
    "The values are close to the original ones except var_2."
   ]
  },
  {
   "cell_type": "markdown",
   "metadata": {},
   "source": [
    "g) Update `P(S_j | X_i)`. Comment on any differences or lack thereof you observe."
   ]
  },
  {
   "cell_type": "code",
   "outputs": [
    {
     "name": "stdout",
     "output_type": "stream",
     "text": [
      "Data point:  8.277378715013661\n",
      "Original P(S_0 | X_i):  7.73167925511447e-09\n",
      "Updated P(S_0 | X_i):  0.0042099553610918175\n",
      "Original P(S_1 | X_i):  0.9999999922683207\n",
      "Updated P(S_1 | X_i):  0.9957900446389082\n",
      "\n",
      "Data point:  7.600473832685583\n",
      "Original P(S_0 | X_i):  4.277663389728769e-07\n",
      "Updated P(S_0 | X_i):  0.001980059731562256\n",
      "Original P(S_1 | X_i):  0.999999572233661\n",
      "Updated P(S_1 | X_i):  0.9980199402684377\n",
      "\n",
      "Data point:  7.893207950661034\n",
      "Original P(S_0 | X_i):  6.103352959703415e-08\n",
      "Updated P(S_0 | X_i):  0.0013114606637394523\n",
      "Original P(S_1 | X_i):  0.9999999389664703\n",
      "Updated P(S_1 | X_i):  0.9986885393362606\n",
      "\n",
      "Data point:  7.607010408772074\n",
      "Original P(S_0 | X_i):  4.0812711504314273e-07\n",
      "Updated P(S_0 | X_i):  0.0019379830149911027\n",
      "Original P(S_1 | X_i):  0.9999995918728849\n",
      "Updated P(S_1 | X_i):  0.998062016985009\n",
      "\n",
      "Data point:  6.120497832091548\n",
      "Original P(S_0 | X_i):  0.5288617524327288\n",
      "Updated P(S_0 | X_i):  0.9999980017454418\n",
      "Original P(S_1 | X_i):  0.4711382475672712\n",
      "Updated P(S_1 | X_i):  1.9982545580590277e-06\n",
      "\n",
      "Data point:  3.0582290176348197\n",
      "Original P(S_0 | X_i):  1.0\n",
      "Updated P(S_0 | X_i):  1.0\n",
      "Original P(S_1 | X_i):  2.007604011168692e-25\n",
      "Updated P(S_1 | X_i):  1.497430609024145e-63\n",
      "\n",
      "Data point:  7.916592961252947\n",
      "Original P(S_0 | X_i):  5.29730689151148e-08\n",
      "Updated P(S_0 | X_i):  0.0013321424345749322\n",
      "Original P(S_1 | X_i):  0.9999999470269312\n",
      "Updated P(S_1 | X_i):  0.998667857565425\n",
      "\n",
      "Data point:  7.332777514589342\n",
      "Original P(S_0 | X_i):  3.365887541980017e-06\n",
      "Updated P(S_0 | X_i):  0.007703722197075437\n",
      "Original P(S_1 | X_i):  0.999996634112458\n",
      "Updated P(S_1 | X_i):  0.9922962778029245\n",
      "\n",
      "Data point:  5.0774770328695356\n",
      "Original P(S_0 | X_i):  0.9999998112937003\n",
      "Updated P(S_0 | X_i):  1.0\n",
      "Original P(S_1 | X_i):  1.8870629960193027e-07\n",
      "Updated P(S_1 | X_i):  7.25947292867527e-20\n",
      "\n",
      "Data point:  4.128431913516526\n",
      "Original P(S_0 | X_i):  0.9999999999999954\n",
      "Updated P(S_0 | X_i):  1.0\n",
      "Original P(S_1 | X_i):  4.553376254083269e-15\n",
      "Updated P(S_1 | X_i):  1.70051992105687e-37\n"
     ]
    }
   ],
   "source": [
    "from scipy.stats import norm\n",
    "\n",
    "# Updated probabilities\n",
    "prob_s0_x_updated = [] # P(S_0 | X_i)\n",
    "prob_s1_x_updated = [] # P(S_1 | X_i)\n",
    "\n",
    "for p in data:\n",
    "    pdf_i = []\n",
    "\n",
    "    for j in range(k):\n",
    "        # P(X_i | S_j)\n",
    "        pdf_i.append(norm.pdf(p, mean[j], var[j]))\n",
    "\n",
    "    # P(X_i) = P(S_0)P(X_i | S_0) + P(S_1)P(X_i | S_1)\n",
    "    prob_x_updated = prob_c[0] * pdf_i[0] + prob_c[1] * pdf_i[1]\n",
    "\n",
    "    # P(S_j | X_i) = P(X_i | S_j)P(S_j) / P(X_i)\n",
    "    prob_s0_x_updated.append( pdf_i[0] * prob_c[0] / prob_x_updated )\n",
    "    prob_s1_x_updated.append( pdf_i[1] * prob_c[1] / prob_x_updated )\n",
    "\n",
    "# Compare the updated probabilities with the original ones\n",
    "for i in range(len(data)):\n",
    "    print(\"Data point: \", data[i])\n",
    "    print(\"Original P(S_0 | X_i): \", prob_s0_x[i])\n",
    "    print(\"Updated P(S_0 | X_i): \", prob_s0_x_updated[i])\n",
    "    print(\"Original P(S_1 | X_i): \", prob_s1_x[i])\n",
    "    print(\"Updated P(S_1 | X_i): \", prob_s1_x_updated[i])\n",
    "    print()"
   ],
   "metadata": {
    "collapsed": false,
    "ExecuteTime": {
     "end_time": "2024-02-28T00:39:28.978796600Z",
     "start_time": "2024-02-28T00:39:28.941108800Z"
    }
   },
   "execution_count": 24
  },
  {
   "cell_type": "markdown",
   "source": [
    "The updated `P(S_j | X_i)` are close from the truth."
   ],
   "metadata": {
    "collapsed": false
   }
  },
  {
   "cell_type": "markdown",
   "metadata": {},
   "source": [
    "h) Use `P(S_j | X_i)` to create a hard assignment - label each point as belonging to a specific cluster (0 or 1)"
   ]
  },
  {
   "cell_type": "code",
   "execution_count": 8,
   "metadata": {
    "ExecuteTime": {
     "end_time": "2024-02-28T00:04:06.873211Z",
     "start_time": "2024-02-28T00:04:06.856210800Z"
    }
   },
   "outputs": [
    {
     "name": "stdout",
     "output_type": "stream",
     "text": [
      "[1, 1, 1, 0, 0, 1, 1, 1, 0, 1]\n"
     ]
    }
   ],
   "source": [
    "hard_assignment = []\n",
    "for i in range(len(data)):\n",
    "    if prob_s0_x_updated[i] > prob_s1_x_updated[i]:\n",
    "        hard_assignment.append(0)\n",
    "    else:\n",
    "        hard_assignment.append(1)\n",
    "print(hard_assignment)"
   ]
  }
 ],
 "metadata": {
  "kernelspec": {
   "name": "tc17",
   "language": "python",
   "display_name": "tc17"
  },
  "language_info": {
   "codemirror_mode": {
    "name": "ipython",
    "version": 3
   },
   "file_extension": ".py",
   "mimetype": "text/x-python",
   "name": "python",
   "nbconvert_exporter": "python",
   "pygments_lexer": "ipython3",
   "version": "3.11.1"
  },
  "orig_nbformat": 4,
  "vscode": {
   "interpreter": {
    "hash": "e7370f93d1d0cde622a1f8e1c04877d8463912d04d973331ad4851f04de6915a"
   }
  }
 },
 "nbformat": 4,
 "nbformat_minor": 2
}
