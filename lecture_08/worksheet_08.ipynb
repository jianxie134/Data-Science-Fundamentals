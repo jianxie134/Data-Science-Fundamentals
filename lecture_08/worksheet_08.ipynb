{
 "cells": [
  {
   "attachments": {},
   "cell_type": "markdown",
   "metadata": {},
   "source": [
    "# Worksheet 08\n",
    "\n",
    "Name: Jian Xie  \n",
    "UID: U75516303 \n",
    "\n",
    "### Topics\n",
    "\n",
    "- Soft Clustering\n",
    "- Clustering Aggregation\n",
    "\n",
    "### Probability Review\n",
    "\n",
    "Read through [the following](https://medium.com/@gallettilance/overview-of-probability-3272b72c82c8)\n",
    "\n",
    "### Soft Clustering\n",
    "\n",
    "We generate 10 data points that come from a normal distribution with mean 5 and variance 1."
   ]
  },
  {
   "cell_type": "code",
   "execution_count": 1,
   "metadata": {
    "ExecuteTime": {
     "end_time": "2024-02-27T23:58:22.215559800Z",
     "start_time": "2024-02-27T23:58:21.175303900Z"
    }
   },
   "outputs": [
    {
     "name": "stdout",
     "output_type": "stream",
     "text": [
      "[4.520545555454363, 4.907864688284163, 4.002100324628296, 5.203945958354401, 5.1721341473236935, 4.815602654878374, 4.0704126327925145, 4.829953004896432, 4.4015884453799305, 6.99753873643184]\n"
     ]
    }
   ],
   "source": [
    "import random\n",
    "import numpy as np\n",
    "from sklearn.cluster import KMeans\n",
    "\n",
    "mean = 5\n",
    "stdev = 1\n",
    "\n",
    "s1 = np.random.normal(mean, stdev, 10).tolist()\n",
    "print(s1)"
   ]
  },
  {
   "cell_type": "markdown",
   "metadata": {},
   "source": [
    "a) Generate 10 more data points, this time coming from a normal distribution with mean 8 and variance 1."
   ]
  },
  {
   "cell_type": "code",
   "execution_count": 2,
   "metadata": {
    "ExecuteTime": {
     "end_time": "2024-02-27T23:58:24.181541600Z",
     "start_time": "2024-02-27T23:58:24.162465200Z"
    }
   },
   "outputs": [
    {
     "name": "stdout",
     "output_type": "stream",
     "text": [
      "[8.386269997787718, 7.187676010654952, 8.028995364656618, 7.182784194363379, 7.357399382094217, 8.849337990008982, 7.643669665081308, 7.388997521364456, 7.51647897875328, 9.594807152750198]\n"
     ]
    }
   ],
   "source": [
    "s2 = np.random.normal(8, 1, 10).tolist()\n",
    "print(s2)"
   ]
  },
  {
   "attachments": {},
   "cell_type": "markdown",
   "metadata": {},
   "source": [
    "b) Flip a fair coin 10 times. If the coin lands on H, then pick the last data point of `s1` and remove it from `s1`, if T then pick the last data point from `s2` and remove it from `s2`. Add these 10 points to a list called `data`."
   ]
  },
  {
   "cell_type": "code",
   "execution_count": 3,
   "metadata": {
    "ExecuteTime": {
     "end_time": "2024-02-27T23:58:26.649353Z",
     "start_time": "2024-02-27T23:58:26.641345400Z"
    }
   },
   "outputs": [
    {
     "name": "stdout",
     "output_type": "stream",
     "text": [
      "[9.594807152750198, 6.99753873643184, 7.51647897875328, 4.4015884453799305, 4.829953004896432, 7.388997521364456, 4.0704126327925145, 7.643669665081308, 4.815602654878374, 8.849337990008982]\n"
     ]
    }
   ],
   "source": [
    "data = []\n",
    "for i in range(10):\n",
    "    # flip coin\n",
    "    coin_output = random.choice([0, 1])\n",
    "    if coin_output == 0:\n",
    "        p1 = s1.pop()\n",
    "        data.append(p1)\n",
    "    else:\n",
    "        p2 = s2.pop()\n",
    "        data.append(p2)\n",
    "print(data)"
   ]
  },
  {
   "cell_type": "markdown",
   "metadata": {},
   "source": [
    "c) This `data` is a Gaussian Mixture Distribution with 2 mixture components. Over the next few questions we will walk through the GMM algorithm to see if we can uncover the parameters we used to generate this data. First, please list all these parameters of the GMM that created `data` and the values we know they have."
   ]
  },
  {
   "cell_type": "markdown",
   "source": [
    "1. The means of the two components: 5 and 8\n",
    "2. The variances of the two components: 1 and 1\n",
    "3. The proportion of points in each cluster: 0.5 and 0.5"
   ],
   "metadata": {
    "collapsed": false
   }
  },
  {
   "cell_type": "markdown",
   "metadata": {},
   "source": [
    "d) Let's assume there are two mixture components (note: we could plot the data and make the observation that there are two clusters). The EM algorithm asks us to start with a random `mean_j`, `variance_j`, `P(S_j)` for each component j. One method we could use to find sensible values for these is to apply K means with k=2 here.\n",
    "\n",
    "1. the centroids would be the estimates of the `mean_j`\n",
    "2. the intra-cluster variance could be the estimate of `variance_j`\n",
    "3. the proportion of points in each cluster could be the estimate of `P(S_j)`\n",
    "\n",
    "Go through this process and list the parameter estimates it gives. Are they close or far from the true values?"
   ]
  },
  {
   "cell_type": "code",
   "execution_count": 4,
   "metadata": {
    "ExecuteTime": {
     "end_time": "2024-02-27T23:58:30.417835800Z",
     "start_time": "2024-02-27T23:58:30.329130600Z"
    }
   },
   "outputs": [
    {
     "name": "stdout",
     "output_type": "stream",
     "text": [
      "[4.4015884453799305, 4.829953004896432, 4.0704126327925145, 4.815602654878374]\n",
      "[9.594807152750198, 6.99753873643184, 7.51647897875328, 7.388997521364456, 7.643669665081308, 8.849337990008982]\n",
      "P(S_1) = 0.4,  P(S_2) = 0.6\n",
      "mean_1 = 4.5293891844868135,  mean_2 = 7.998471674065011\n",
      "var_1 = 0.09981231617356531,  var_2 = 0.8339645600798159\n"
     ]
    }
   ],
   "source": [
    "kmeans = KMeans(2, init='k-means++').fit(X=np.array(data).reshape(-1, 1))\n",
    "\n",
    "s1 = [x[0] for x in filter(lambda x: x[1] == 0, zip(data, kmeans.labels_))]\n",
    "print(s1)\n",
    "s2 = [x[0] for x in filter(lambda x: x[1] == 1, zip(data, kmeans.labels_))]\n",
    "print(s2)\n",
    "\n",
    "prob_s = [ len(s1) / (len(s1) + len(s2)) , len(s2) / (len(s1) + len(s2)) ]\n",
    "mean = [ sum(s1)/len(s1) , sum(s2)/len(s2) ]\n",
    "var = [ sum(map(lambda x : (x - mean[0])**2, s1)) / len(s1) , sum(map(lambda x : (x - mean[1])**2, s2)) / len(s2) ]\n",
    "\n",
    "print(\"P(S_1) = \" + str(prob_s[0]) + \",  P(S_2) = \" + str(prob_s[1]))\n",
    "print(\"mean_1 = \" + str(mean[0]) + \",  mean_2 = \" + str(mean[1]))\n",
    "print(\"var_1 = \" + str(var[0]) + \",  var_2 = \" + str(var[1]))"
   ]
  },
  {
   "cell_type": "markdown",
   "metadata": {},
   "source": [
    "They are close to the true values except var_1."
   ]
  },
  {
   "cell_type": "markdown",
   "metadata": {},
   "source": [
    "e) For each data point, compute `P(S_j | X_i)`. Comment on which cluster you think each point belongs to based on the estimated probabilities. How does that compare to the truth?"
   ]
  },
  {
   "cell_type": "code",
   "execution_count": 5,
   "metadata": {
    "ExecuteTime": {
     "end_time": "2024-02-27T23:58:37.679739600Z",
     "start_time": "2024-02-27T23:58:37.643228800Z"
    }
   },
   "outputs": [
    {
     "name": "stdout",
     "output_type": "stream",
     "text": [
      "point =  9.594807152750198\n",
      "probability of observing that point if it came from cluster 0 =  0.0\n",
      "probability of observing that point if it came from cluster 1 =  0.0765842099967542\n",
      "point =  6.99753873643184\n",
      "probability of observing that point if it came from cluster 0 =  6.650419407009963e-133\n",
      "probability of observing that point if it came from cluster 1 =  0.23278810424574736\n",
      "point =  7.51647897875328\n",
      "probability of observing that point if it came from cluster 0 =  1.3130955479844487e-194\n",
      "probability of observing that point if it came from cluster 1 =  0.40478903153214324\n",
      "point =  4.4015884453799305\n",
      "probability of observing that point if it came from cluster 0 =  1.7608552326706572\n",
      "probability of observing that point if it came from cluster 1 =  4.369276409513669e-05\n",
      "point =  4.829953004896432\n",
      "probability of observing that point if it came from cluster 0 =  0.042920389160167445\n",
      "probability of observing that point if it came from cluster 1 =  0.0003509441381539681\n",
      "point =  7.388997521364456\n",
      "probability of observing that point if it came from cluster 0 =  2.3131030511724128e-178\n",
      "probability of observing that point if it came from cluster 1 =  0.3662570959549969\n",
      "point =  4.0704126327925145\n",
      "probability of observing that point if it came from cluster 0 =  0.00010235150390987385\n",
      "probability of observing that point if it came from cluster 1 =  7.283422636338923e-06\n",
      "point =  7.643669665081308\n",
      "probability of observing that point if it came from cluster 0 =  1.5974355338305035e-211\n",
      "probability of observing that point if it came from cluster 1 =  0.43697739053799145\n",
      "point =  4.815602654878374\n",
      "probability of observing that point if it came from cluster 0 =  0.0654937556505612\n",
      "probability of observing that point if it came from cluster 1 =  0.00032868578252235773\n",
      "point =  8.849337990008982\n",
      "probability of observing that point if it came from cluster 0 =  0.0\n",
      "probability of observing that point if it came from cluster 1 =  0.2842655939157122\n",
      "9.594807152750198\n",
      "Probability of coming from S_1 = 0.0\n",
      "Probability of coming from S_2 = 1.0\n",
      "\n",
      "6.99753873643184\n",
      "Probability of coming from S_1 = 1.90457023238877e-132\n",
      "Probability of coming from S_2 = 1.0\n",
      "\n",
      "7.51647897875328\n",
      "Probability of coming from S_1 = 2.1626006729387368e-194\n",
      "Probability of coming from S_2 = 1.0\n",
      "\n",
      "4.4015884453799305\n",
      "Probability of coming from S_1 = 0.9999627813203231\n",
      "Probability of coming from S_2 = 3.7218679676931824e-05\n",
      "\n",
      "4.829953004896432\n",
      "Probability of coming from S_1 = 0.9878836613468026\n",
      "Probability of coming from S_2 = 0.012116338653197367\n",
      "\n",
      "7.388997521364456\n",
      "Probability of coming from S_1 = 4.2103449129381164e-178\n",
      "Probability of coming from S_2 = 1.0\n",
      "\n",
      "4.0704126327925145\n",
      "Probability of coming from S_1 = 0.9035535114699622\n",
      "Probability of coming from S_2 = 0.09644648853003777\n",
      "\n",
      "7.643669665081308\n",
      "Probability of coming from S_1 = 2.4370986820222685e-211\n",
      "Probability of coming from S_2 = 1.0\n",
      "\n",
      "4.815602654878374\n",
      "Probability of coming from S_1 = 0.9925283724789474\n",
      "Probability of coming from S_2 = 0.007471627521052603\n",
      "\n",
      "8.849337990008982\n",
      "Probability of coming from S_1 = 0.0\n",
      "Probability of coming from S_2 = 1.0\n"
     ]
    }
   ],
   "source": [
    "from scipy.stats import norm\n",
    "\n",
    "prob_s0_x = [] # P(S_0 | X_i)\n",
    "prob_s1_x = [] # P(S_1 | X_i)\n",
    "prob_x = [] # P(X_i)\n",
    "\n",
    "k = 2\n",
    "\n",
    "for p in data:\n",
    "    print(\"point = \", p)\n",
    "    pdf_i = []\n",
    "\n",
    "    for j in range(k):\n",
    "        # P(X_i | S_j)\n",
    "        pdf_i.append(norm.pdf(p, mean[j], var[j]))\n",
    "        print(\"probability of observing that point if it came from cluster \" + str(j) + \" = \", pdf_i[j])\n",
    "        # P(S_j) already computed\n",
    "        prob_s[j]\n",
    "\n",
    "    # P(X_i) = P(S_0)P(X_i | S_0) + P(S_1)P(X_i | S_1)\n",
    "    prob_x = prob_s[0] * pdf_i[0] + prob_s[1] * pdf_i[1]\n",
    "\n",
    "    # P(S_j | X_i) = P(X_i | S_j)P(S_j) / P(X_i)\n",
    "    prob_s0_x.append( pdf_i[0] * prob_s[0] / prob_x )\n",
    "    prob_s1_x.append( pdf_i[1] * prob_s[1] / prob_x )\n",
    "\n",
    "probs = zip(data, prob_s0_x, prob_s1_x)\n",
    "for p in probs:\n",
    "    print(p[0])\n",
    "    print(\"Probability of coming from S_1 = \" + str(p[1]))\n",
    "    print(\"Probability of coming from S_2 = \" + str(p[2]))\n",
    "    print()"
   ]
  },
  {
   "cell_type": "markdown",
   "source": [
    "The estimated probabilities are far from the truth."
   ],
   "metadata": {
    "collapsed": false
   }
  },
  {
   "cell_type": "markdown",
   "metadata": {},
   "source": [
    "f) Having computed `P(S_j | X_i)`, update the estimates of `mean_j`, `var_j`, and `P(S_j)`. How different are these values from the original ones you got from K means? briefly comment."
   ]
  },
  {
   "cell_type": "code",
   "execution_count": 6,
   "metadata": {
    "ExecuteTime": {
     "end_time": "2024-02-27T23:58:57.617667500Z",
     "start_time": "2024-02-27T23:58:57.592668200Z"
    }
   },
   "outputs": [
    {
     "name": "stdout",
     "output_type": "stream",
     "text": [
      "P(S_1) = 0.4,  P(S_2) = 0.6\n",
      "mean_1 = 4.53929956814716,  mean_2 = 7.926341481180217\n",
      "var_1 = 0.09702629930617361,  var_2 = 1.0885939043715056\n"
     ]
    }
   ],
   "source": [
    "prob_c = [sum(prob_s0_x)/ len(prob_s0_x), sum(prob_s1_x)/ len(prob_s1_x)]\n",
    "mean = [sum([x[0] * x[1] for x in zip(prob_s0_x, data)]) / sum(prob_s0_x), sum([x[0] * x[1] for x in zip(prob_s1_x, data)]) / sum(prob_s1_x)]\n",
    "var = [sum([x[0] * (x[1] - mean[0])**2 for x in zip(prob_s0_x, data)]) / sum(prob_s0_x), sum([x[0] * (x[1] - mean[1])**2 for x in zip(prob_s1_x, data)]) / sum(prob_s1_x)]\n",
    "\n",
    "print(\"P(S_1) = \" + str(prob_s[0]) + \",  P(S_2) = \" + str(prob_s[1]))\n",
    "print(\"mean_1 = \" + str(mean[0]) + \",  mean_2 = \" + str(mean[1]))\n",
    "print(\"var_1 = \" + str(var[0]) + \",  var_2 = \" + str(var[1]))"
   ]
  },
  {
   "cell_type": "markdown",
   "metadata": {},
   "source": [
    "The values are close to the original ones except var_1."
   ]
  },
  {
   "cell_type": "markdown",
   "metadata": {},
   "source": [
    "g) Update `P(S_j | X_i)`. Comment on any differences or lack thereof you observe."
   ]
  },
  {
   "cell_type": "code",
   "outputs": [
    {
     "name": "stdout",
     "output_type": "stream",
     "text": [
      "Data point:  9.594807152750198\n",
      "Original P(S_0 | X_i):  0.0\n",
      "Updated P(S_0 | X_i):  0.0\n",
      "Original P(S_1 | X_i):  1.0\n",
      "Updated P(S_1 | X_i):  1.0\n",
      "\n",
      "Data point:  6.99753873643184\n",
      "Original P(S_0 | X_i):  1.90457023238877e-132\n",
      "Updated P(S_0 | X_i):  4.201553300654657e-139\n",
      "Original P(S_1 | X_i):  1.0\n",
      "Updated P(S_1 | X_i):  1.0\n",
      "\n",
      "Data point:  7.51647897875328\n",
      "Original P(S_0 | X_i):  2.1626006729387368e-194\n",
      "Updated P(S_0 | X_i):  2.7187351605658676e-204\n",
      "Original P(S_1 | X_i):  1.0\n",
      "Updated P(S_1 | X_i):  1.0\n",
      "\n",
      "Data point:  4.4015884453799305\n",
      "Original P(S_0 | X_i):  0.9999627813203231\n",
      "Updated P(S_0 | X_i):  0.997971319481113\n",
      "Original P(S_1 | X_i):  3.7218679676931824e-05\n",
      "Updated P(S_1 | X_i):  0.002028680518887016\n",
      "\n",
      "Data point:  4.829953004896432\n",
      "Original P(S_0 | X_i):  0.9878836613468026\n",
      "Updated P(S_0 | X_i):  0.8208353447753641\n",
      "Original P(S_1 | X_i):  0.012116338653197367\n",
      "Updated P(S_1 | X_i):  0.17916465522463587\n",
      "\n",
      "Data point:  7.388997521364456\n",
      "Original P(S_0 | X_i):  4.2103449129381164e-178\n",
      "Updated P(S_0 | X_i):  3.8947034015506304e-187\n",
      "Original P(S_1 | X_i):  1.0\n",
      "Updated P(S_1 | X_i):  1.0\n",
      "\n",
      "Data point:  4.0704126327925145\n",
      "Original P(S_0 | X_i):  0.9035535114699622\n",
      "Updated P(S_0 | X_i):  0.031068357223401236\n",
      "Original P(S_1 | X_i):  0.09644648853003777\n",
      "Updated P(S_1 | X_i):  0.9689316427765987\n",
      "\n",
      "Data point:  7.643669665081308\n",
      "Original P(S_0 | X_i):  2.4370986820222685e-211\n",
      "Updated P(S_0 | X_i):  3.768501254064118e-222\n",
      "Original P(S_1 | X_i):  1.0\n",
      "Updated P(S_1 | X_i):  1.0\n",
      "\n",
      "Data point:  4.815602654878374\n",
      "Original P(S_0 | X_i):  0.9925283724789474\n",
      "Updated P(S_0 | X_i):  0.8799249061744202\n",
      "Original P(S_1 | X_i):  0.007471627521052603\n",
      "Updated P(S_1 | X_i):  0.12007509382557989\n",
      "\n",
      "Data point:  8.849337990008982\n",
      "Original P(S_0 | X_i):  0.0\n",
      "Updated P(S_0 | X_i):  0.0\n",
      "Original P(S_1 | X_i):  1.0\n",
      "Updated P(S_1 | X_i):  1.0\n"
     ]
    }
   ],
   "source": [
    "from scipy.stats import norm\n",
    "\n",
    "# Updated probabilities\n",
    "prob_s0_x_updated = [] # P(S_0 | X_i)\n",
    "prob_s1_x_updated = [] # P(S_1 | X_i)\n",
    "\n",
    "for p in data:\n",
    "    pdf_i = []\n",
    "\n",
    "    for j in range(k):\n",
    "        # P(X_i | S_j)\n",
    "        pdf_i.append(norm.pdf(p, mean[j], var[j]))\n",
    "\n",
    "    # P(X_i) = P(S_0)P(X_i | S_0) + P(S_1)P(X_i | S_1)\n",
    "    prob_x_updated = prob_c[0] * pdf_i[0] + prob_c[1] * pdf_i[1]\n",
    "\n",
    "    # P(S_j | X_i) = P(X_i | S_j)P(S_j) / P(X_i)\n",
    "    prob_s0_x_updated.append( pdf_i[0] * prob_c[0] / prob_x_updated )\n",
    "    prob_s1_x_updated.append( pdf_i[1] * prob_c[1] / prob_x_updated )\n",
    "\n",
    "# Compare the updated probabilities with the original ones\n",
    "for i in range(len(data)):\n",
    "    print(\"Data point: \", data[i])\n",
    "    print(\"Original P(S_0 | X_i): \", prob_s0_x[i])\n",
    "    print(\"Updated P(S_0 | X_i): \", prob_s0_x_updated[i])\n",
    "    print(\"Original P(S_1 | X_i): \", prob_s1_x[i])\n",
    "    print(\"Updated P(S_1 | X_i): \", prob_s1_x_updated[i])\n",
    "    print()"
   ],
   "metadata": {
    "collapsed": false,
    "ExecuteTime": {
     "end_time": "2024-02-27T23:59:45.722896800Z",
     "start_time": "2024-02-27T23:59:45.679770600Z"
    }
   },
   "execution_count": 7
  },
  {
   "cell_type": "markdown",
   "source": [
    "The updated `P(S_j | X_i)` are far from the original ones."
   ],
   "metadata": {
    "collapsed": false
   }
  },
  {
   "cell_type": "markdown",
   "metadata": {},
   "source": [
    "h) Use `P(S_j | X_i)` to create a hard assignment - label each point as belonging to a specific cluster (0 or 1)"
   ]
  },
  {
   "cell_type": "code",
   "execution_count": 8,
   "metadata": {
    "ExecuteTime": {
     "end_time": "2024-02-28T00:04:06.873211Z",
     "start_time": "2024-02-28T00:04:06.856210800Z"
    }
   },
   "outputs": [
    {
     "name": "stdout",
     "output_type": "stream",
     "text": [
      "[1, 1, 1, 0, 0, 1, 1, 1, 0, 1]\n"
     ]
    }
   ],
   "source": [
    "hard_assignment = []\n",
    "for i in range(len(data)):\n",
    "    if prob_s0_x_updated[i] > prob_s1_x_updated[i]:\n",
    "        hard_assignment.append(0)\n",
    "    else:\n",
    "        hard_assignment.append(1)\n",
    "print(hard_assignment)"
   ]
  }
 ],
 "metadata": {
  "kernelspec": {
   "name": "tc17",
   "language": "python",
   "display_name": "tc17"
  },
  "language_info": {
   "codemirror_mode": {
    "name": "ipython",
    "version": 3
   },
   "file_extension": ".py",
   "mimetype": "text/x-python",
   "name": "python",
   "nbconvert_exporter": "python",
   "pygments_lexer": "ipython3",
   "version": "3.11.1"
  },
  "orig_nbformat": 4,
  "vscode": {
   "interpreter": {
    "hash": "e7370f93d1d0cde622a1f8e1c04877d8463912d04d973331ad4851f04de6915a"
   }
  }
 },
 "nbformat": 4,
 "nbformat_minor": 2
}
